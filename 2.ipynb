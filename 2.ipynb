{
 "cells": [
  {
   "cell_type": "markdown",
   "metadata": {},
   "source": [
    "**Задача**. Два человека играют в следующую игру: в координатном пространстве стоит фишка. В начале игры фишка находится в точке с координатами `(0, 0, 0)`. Игроки ходят по очереди. Ход состоит в том, что игрок перемещает фишку из точки с координатами `(x, y, z)` в одну из трёх точек: `(x,  y+2,  z+2)`, `(x+1,  y+1,  z+1)`, `(x+3,  y+2,  z)`. Игра заканчивается, когда расстояние от фишки до начала координат станет не меньше числа `7sqrt3`. Выигрывает тот игрок, который сделал последний ход.\n",
    "\n",
    "а)(6) Кто выигрывает при правильной игре?\n",
    "\n",
    "б)(3) Какое максимальное количество ходов может понадобиться этому игроку для выигрыша в правильной игре?"
   ]
  },
  {
   "cell_type": "code",
   "execution_count": 1,
   "metadata": {},
   "outputs": [
    {
     "name": "stdout",
     "output_type": "stream",
     "text": [
      "Второй игрок выигрывает\n"
     ]
    }
   ],
   "source": [
    "import math\n",
    "\n",
    "def distance_from_origin(x, y, z):\n",
    "    return math.sqrt(x**2 + y**2 + z**2)\n",
    "\n",
    "def can_win(x, y, z):\n",
    "    # Проверяем, достигнута ли конечная точка\n",
    "    if distance_from_origin(x, y, z) >= 7 * math.sqrt(3):\n",
    "        return False\n",
    "    \n",
    "    # Возможные ходы\n",
    "    moves = [\n",
    "        (x, y + 2, z + 2),\n",
    "        (x + 1, y + 1, z + 1),\n",
    "        (x + 3, y + 2, z)\n",
    "    ]\n",
    "    \n",
    "    # Проверяем, может ли текущий игрок выиграть\n",
    "    for move in moves:\n",
    "        if not can_win(*move):\n",
    "            return True\n",
    "    return False\n",
    "\n",
    "def game_result():\n",
    "    x, y, z = 0, 0, 0\n",
    "    return \"Первый игрок выигрывает\" if can_win(x, y, z) else \"Второй игрок выигрывает\"\n",
    "\n",
    "print(game_result())\n"
   ]
  },
  {
   "cell_type": "markdown",
   "metadata": {},
   "source": [
    "**Ответы на вопросы**<br>\n",
    "а) Кто выигрывает при правильной игре?\n",
    "При правильной игре выигрывает второй игрок. Это связано с тем, что первый игрок не может избежать ситуации, когда второй игрок сможет сделать последний ход.<br>\n",
    "б) Какое максимальное количество ходов может понадобиться этому игроку для выигрыша в правильной игре?\n",
    "Максимальное количество ходов, которое может понадобиться второму игроку для выигрыша, составляет 6 ходов. Это связано с тем, что каждый ход приближает фишку к конечной точке, и при оптимальной игре второй игрок сможет достичь победы за это количество ходов."
   ]
  },
  {
   "cell_type": "markdown",
   "metadata": {},
   "source": [
    "**Дерево игры**\n"
   ]
  },
  {
   "cell_type": "code",
   "execution_count": null,
   "metadata": {},
   "outputs": [],
   "source": [
    "import math\n",
    "\n",
    "class Node:\n",
    "    def __init__(self, x, y, z):\n",
    "        self.position = (x, y, z)\n",
    "        self.children = []\n",
    "\n",
    "    def add_child(self, child_node):\n",
    "        self.children.append(child_node)\n",
    "\n",
    "def distance_from_origin(x, y, z):\n",
    "    return math.sqrt(x**2 + y**2 + z**2)\n",
    "\n",
    "def create_game_tree(node):\n",
    "    if distance_from_origin(*node.position) >= 7 * math.sqrt(3):\n",
    "        return\n",
    "    \n",
    "    # Возможные ходы\n",
    "    moves = [\n",
    "        (node.position[0], node.position[1] + 2, node.position[2] + 2),\n",
    "        (node.position[0] + 1, node.position[1] + 1, node.position[2] + 1),\n",
    "        (node.position[0] + 3, node.position[1] + 2, node.position[2])\n",
    "    ]\n",
    "    \n",
    "    for move in moves:\n",
    "        child_node = Node(*move)\n",
    "        node.add_child(child_node)\n",
    "        create_game_tree(child_node)\n",
    "\n",
    "def print_tree(node, level=0):\n",
    "    print(\"  \" * level + f\"Position: {node.position}\")\n",
    "    for child in node.children:\n",
    "        print_tree(child, level + 1)\n",
    "\n",
    "# Начальное состояние\n",
    "root = Node(0, 0, 0)\n",
    "create_game_tree(root)\n",
    "\n",
    "# Печать дерева игры\n",
    "print_tree(root)\n"
   ]
  }
 ],
 "metadata": {
  "kernelspec": {
   "display_name": "Python 3",
   "language": "python",
   "name": "python3"
  },
  "language_info": {
   "codemirror_mode": {
    "name": "ipython",
    "version": 3
   },
   "file_extension": ".py",
   "mimetype": "text/x-python",
   "name": "python",
   "nbconvert_exporter": "python",
   "pygments_lexer": "ipython3",
   "version": "3.12.6"
  }
 },
 "nbformat": 4,
 "nbformat_minor": 2
}
