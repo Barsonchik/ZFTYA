{
 "cells": [
  {
   "cell_type": "markdown",
   "metadata": {},
   "source": [
    "**1.** На круглом столе вплотную друг к другу лежит `2022` монеты. Два игрока ходят по очереди, за ход разрешается забрать одну монету или две или шесть монет подряд, \n",
    "лежащих вплотную. Тот, кто не может забрать монету, проигрывает. Кто выигрывает при правильной игре - первый или второй?"
   ]
  },
  {
   "cell_type": "code",
   "execution_count": 1,
   "metadata": {},
   "outputs": [
    {
     "name": "stdout",
     "output_type": "stream",
     "text": [
      "Первый игрок выигрывает.\n"
     ]
    }
   ],
   "source": [
    "def can_first_player_win(n):\n",
    "    dp = [False] * (n + 1)\n",
    "    \n",
    "    for i in range(1, n + 1):\n",
    "        if i >= 1 and not dp[i - 1]:\n",
    "            dp[i] = True\n",
    "        elif i >= 2 and not dp[i - 2]:\n",
    "            dp[i] = True\n",
    "        elif i >= 6 and not dp[i - 6]:\n",
    "            dp[i] = True\n",
    "            \n",
    "    return dp[n]\n",
    "\n",
    "n = 2022\n",
    "if can_first_player_win(n):\n",
    "    print(\"Первый игрок выигрывает.\")\n",
    "else:\n",
    "    print(\"Второй игрок выигрывает.\")\n"
   ]
  },
  {
   "cell_type": "markdown",
   "metadata": {},
   "source": [
    "**2.** Два человека играют в следующую игру: в координатном пространстве стоит фишка. В начале игры фишка находится в точке с координатами `(0, 0, 0)`. \n",
    "Игроки ходят по очереди. Ход состоит в том, что игрок перемещает фишку из точки с координатами `(x, y, z)` в одну из трёх точек: `(x,  y+2,  z+2)`, `(x+1,  y+1,  z+1)`, \n",
    "`(x+3,  y+2,  z)`. Игра заканчивается, когда расстояние от фишки до начала координат станет не меньше числа `7sqrt3`. Выигрывает тот игрок, который сделал последний ход.\n",
    "а)(6) Кто выигрывает при правильной игре?\n",
    "б)(3) Какое максимальное количество ходов может понадобиться этому игроку для выигрыша в правильной игре?\n"
   ]
  },
  {
   "cell_type": "code",
   "execution_count": 1,
   "metadata": {},
   "outputs": [
    {
     "name": "stdout",
     "output_type": "stream",
     "text": [
      "Второй игрок выигрывает.\n",
      "Максимальное количество ходов для выигрыша: 4\n"
     ]
    }
   ],
   "source": [
    "import math\n",
    "\n",
    "def distance(x, y, z):\n",
    "    return math.sqrt(x**2 + y**2 + z**2)\n",
    "\n",
    "def can_first_player_win(x, y, z, memo):\n",
    "    if distance(x, y, z) >= 7 * math.sqrt(3):\n",
    "        return False\n",
    "    \n",
    "    if (x, y, z) in memo:\n",
    "        return memo[(x, y, z)]\n",
    "    \n",
    "    # Проверяем все возможные ходы\n",
    "    moves = [\n",
    "        (x, y + 2, z + 2),\n",
    "        (x + 1, y + 1, z + 1),\n",
    "        (x + 3, y + 2, z)\n",
    "    ]\n",
    "    \n",
    "    for move in moves:\n",
    "        if not can_first_player_win(move[0], move[1], move[2], memo):\n",
    "            memo[(x, y, z)] = True\n",
    "            return True\n",
    "    \n",
    "    memo[(x, y, z)] = False\n",
    "    return False\n",
    "\n",
    "def max_moves_to_win(x, y, z):\n",
    "    moves_count = 0\n",
    "    while distance(x, y, z) < 7 * math.sqrt(3):\n",
    "        if (x, y + 2, z + 2) == (x, y, z):\n",
    "            break\n",
    "        if (x + 1, y + 1, z + 1) == (x, y, z):\n",
    "            break\n",
    "        if (x + 3, y + 2, z) == (x, y, z):\n",
    "            break\n",
    "        \n",
    "        # Увеличиваем количество ходов\n",
    "        moves_count += 1\n",
    "        # Применяем один из ходов, например, (x+3, y+2, z)\n",
    "        x, y, z = x + 3, y + 2, z\n",
    "    \n",
    "    return moves_count\n",
    "\n",
    "# Начальная позиция\n",
    "start_x, start_y, start_z = 0, 0, 0\n",
    "memo = {}\n",
    "\n",
    "if can_first_player_win(start_x, start_y, start_z, memo):\n",
    "    print(\"Первый игрок выигрывает.\")\n",
    "else:\n",
    "    print(\"Второй игрок выигрывает.\")\n",
    "\n",
    "max_moves = max_moves_to_win(start_x, start_y, start_z)\n",
    "print(f\"Максимальное количество ходов для выигрыша: {max_moves}\")\n"
   ]
  },
  {
   "cell_type": "markdown",
   "metadata": {},
   "source": [
    "**3.** Два человека играют в следующую игру: перед игроками лежит куча из `S` камней, игроки по очереди могут за ход провести над кучей следующую операцию: добавить `3` \n",
    "камня в кучу или увеличить втрое количество камней в куче. Игра заканчивается в тот момент, когда в куче становится не менее `66` камней. Если при этом в куче не \n",
    "более `96` камней, игрок, сделавший последний ход, выигрывает, в противном случае – проигрывает.\n",
    "а)(3) Укажите все значения `S`, при которых в правильной игре первый игрок может выиграть первым ходом.\n",
    "б)(4) Кто выиграет при `S=20`? Укажите выигрышную стратегию.\n",
    "в)(4) Кто выиграет при `S=15`? Нарисуйте дерево выигрышной стратегии или таблицу позиций"
   ]
  },
  {
   "cell_type": "code",
   "execution_count": 2,
   "metadata": {},
   "outputs": [
    {
     "name": "stdout",
     "output_type": "stream",
     "text": [
      "Значения S, при которых первый игрок может выиграть первым ходом: [1, 2, 3, 4, 5, 6, 7, 8, 9, 10, 11, 12, 13, 14, 15, 16, 17, 18, 19, 20, 21, 22, 23, 24, 25, 26, 27, 28, 29, 30, 31, 32, 33, 34, 35, 36, 37, 38, 39, 40, 41, 42, 43, 44, 45, 46, 47, 48, 49, 50, 51, 52, 53, 54, 55, 56, 57, 58, 59, 60, 61, 62, 63, 64]\n",
      "При S=20 выигрывает первый игрок.\n",
      "Выигрышная стратегия: []\n",
      "При S=15 выигрывает первый игрок.\n",
      "Выигрышная стратегия: []\n"
     ]
    }
   ],
   "source": [
    "def winning_positions():\n",
    "    win = []\n",
    "    for s in range(1, 66):\n",
    "        # Проверяем, можно ли выиграть, начиная с позиции s\n",
    "        can_win = False\n",
    "        if s >= 66:\n",
    "            continue  # Игрок проигрывает, если количество камней >= 66\n",
    "        if s <= 96:  # Условие для выигрыша\n",
    "            can_win = True  # Если игрок может выиграть в последний ход\n",
    "        # Проверяем все возможные ходы\n",
    "        if not can_win:\n",
    "            # Добавить 3 камня\n",
    "            if s + 3 < 66 and not win[s + 3]:\n",
    "                can_win = True\n",
    "            # Увеличить в 3 раза\n",
    "            if s * 3 < 66 and not win[s * 3]:\n",
    "                can_win = True\n",
    "        win.append(can_win)\n",
    "    return win\n",
    "\n",
    "def game_result(S):\n",
    "    win = winning_positions()\n",
    "    return win[S] if S < len(win) else False\n",
    "\n",
    "def strategy(S):\n",
    "    moves = []\n",
    "    while S < 66:\n",
    "        if S <= 96 and not game_result(S):\n",
    "            moves.append(S)\n",
    "            break\n",
    "        if S + 3 < 66 and not game_result(S + 3):\n",
    "            moves.append(S)\n",
    "            S += 3\n",
    "        elif S * 3 < 66 and not game_result(S * 3):\n",
    "            moves.append(S)\n",
    "            S *= 3\n",
    "        else:\n",
    "            break\n",
    "    return moves\n",
    "\n",
    "# a) Вывод всех значений S, при которых первый игрок может выиграть первым ходом\n",
    "winning_start_positions = [i for i in range(1, 66) if game_result(i)]\n",
    "print(\"Значения S, при которых первый игрок может выиграть первым ходом:\", winning_start_positions)\n",
    "\n",
    "# b) Результат при S=20\n",
    "S_20 = 20\n",
    "if game_result(S_20):\n",
    "    print(f\"При S={S_20} выигрывает первый игрок.\")\n",
    "    print(\"Выигрышная стратегия:\", strategy(S_20))\n",
    "else:\n",
    "    print(f\"При S={S_20} выигрывает второй игрок.\")\n",
    "\n",
    "# c) Результат при S=15\n",
    "S_15 = 15\n",
    "if game_result(S_15):\n",
    "    print(f\"При S={S_15} выигрывает первый игрок.\")\n",
    "    print(\"Выигрышная стратегия:\", strategy(S_15))\n",
    "else:\n",
    "    print(f\"При S={S_15} выигрывает второй игрок.\")\n"
   ]
  },
  {
   "cell_type": "code",
   "execution_count": 3,
   "metadata": {},
   "outputs": [
    {
     "data": {
      "text/plain": [
       "'game_tree_1.pdf'"
      ]
     },
     "execution_count": 3,
     "metadata": {},
     "output_type": "execute_result"
    }
   ],
   "source": [
    "from graphviz import Digraph\n",
    "\n",
    "def create_game_tree(S, depth, max_depth, graph, parent=None):\n",
    "    if depth > max_depth or S >= 66:\n",
    "        return\n",
    "    \n",
    "    # Добавляем текущую позицию в граф\n",
    "    graph.node(str(S), label=f\"S={S}\")\n",
    "    \n",
    "    if parent is not None:\n",
    "        graph.edge(parent, str(S))\n",
    "    \n",
    "    # Возможные ходы\n",
    "    next_positions = [S + 3, S * 3]\n",
    "    \n",
    "    for pos in next_positions:\n",
    "        if pos < 66:  # Добавляем только позиции, которые меньше 66\n",
    "            create_game_tree(pos, depth + 1, max_depth, graph, str(S))\n",
    "\n",
    "# Создаем граф\n",
    "dot = Digraph(comment='Game Tree')\n",
    "\n",
    "# Начальная позиция\n",
    "initial_stones = 15  # Начальное количество камней\n",
    "max_depth = 4  # Максимальная глубина дерева\n",
    "\n",
    "create_game_tree(initial_stones, 0, max_depth, dot)\n",
    "\n",
    "# Сохраняем и отображаем граф\n",
    "dot.render('game_tree_1', format='png', cleanup=True)\n",
    "dot.view()\n"
   ]
  },
  {
   "cell_type": "markdown",
   "metadata": {},
   "source": [
    "**4.** Два человека играют в следующую игру: перед игроками лежит куча из `S` камней, игроки по очереди могут за ход провести над кучей следующую операцию: добавить `2` \n",
    "камня в кучу или, если количество камней в куче делится на три, увеличить количество камней в куче на треть. Выиграет игрок, после чьего хода в куче будет не менее `43` \n",
    "камней.\n",
    "Укажите все значения `S`, при которых в правильной игре \n",
    "а)(2) первый игрок может выиграть первым ходом;\n",
    "б)(2) второй игрок может выиграть первым ходом;\n",
    "в)(3) первый игрок может выиграть вторым ходом, при этом он не может выиграть первым ходом;\n",
    "г)(3) Найдите хотя бы одно значение `S`, при котором в правильной игре выигрывает второй игрок, при этом он не может выиграть своим первым ходом."
   ]
  },
  {
   "cell_type": "code",
   "execution_count": 1,
   "metadata": {},
   "outputs": [
    {
     "name": "stdout",
     "output_type": "stream",
     "text": [
      "a) Значения S, при которых первый игрок может выиграть первым ходом: [43]\n",
      "b) Значения S, при которых второй игрок может выиграть первым ходом: []\n",
      "c) Значения S, при которых первый игрок может выиграть вторым ходом: []\n",
      "g) Хотя бы одно значение S, при котором выигрывает второй игрок: []\n"
     ]
    }
   ],
   "source": [
    "def winning_positions(limit):\n",
    "    win = [False] * (limit + 1)\n",
    "    \n",
    "    for s in range(limit + 1):\n",
    "        if s >= 43:\n",
    "            win[s] = True  # Игрок выигрывает, если уже 43 или больше\n",
    "        \n",
    "        # Проверяем возможность выигрыша для текущей позиции\n",
    "        if s >= 2 and not win[s - 2]:\n",
    "            win[s] = True  # Игрок может добавить 2 камня и выиграть\n",
    "        if s >= 3 and s % 3 == 0 and not win[s // 3]:\n",
    "            win[s] = True  # Игрок может увеличить на треть и выиграть\n",
    "    \n",
    "    return win\n",
    "\n",
    "def find_special_positions(win):\n",
    "    first_player_first_move = []\n",
    "    second_player_first_move = []\n",
    "    first_player_second_move = []\n",
    "    second_player_no_first_move = []\n",
    "\n",
    "    for s in range(len(win)):\n",
    "        if s < 43:\n",
    "            continue  # Игрок не может выиграть, если меньше 43\n",
    "        \n",
    "        # a) Первый игрок может выиграть первым ходом\n",
    "        if s >= 2 and not win[s - 2]:\n",
    "            first_player_first_move.append(s)\n",
    "\n",
    "        # b) Второй игрок может выиграть первым ходом\n",
    "        if s >= 2 and not win[s - 2] and win[s - 2]:\n",
    "            second_player_first_move.append(s)\n",
    "\n",
    "        # c) Первый игрок может выиграть вторым ходом\n",
    "        if s >= 2 and win[s - 2]:\n",
    "            first_player_second_move.append(s)\n",
    "        \n",
    "        # d) Второй игрок выигрывает, не выиграв первым ходом\n",
    "        if s >= 2 and win[s - 2] and not win[s - 2]:\n",
    "            second_player_no_first_move.append(s)\n",
    "\n",
    "    return (first_player_first_move, second_player_first_move, first_player_second_move, second_player_no_first_move)\n",
    "\n",
    "# Устанавливаем лимит\n",
    "limit = 43\n",
    "win = winning_positions(limit)\n",
    "result = find_special_positions(win)\n",
    "\n",
    "# Вывод результатов\n",
    "print(\"a) Значения S, при которых первый игрок может выиграть первым ходом:\", result[0])\n",
    "print(\"b) Значения S, при которых второй игрок может выиграть первым ходом:\", result[1])\n",
    "print(\"c) Значения S, при которых первый игрок может выиграть вторым ходом:\", result[2])\n",
    "print(\"g) Хотя бы одно значение S, при котором выигрывает второй игрок:\", result[3])\n"
   ]
  },
  {
   "cell_type": "markdown",
   "metadata": {},
   "source": [
    "**5.** При каких `S` в примере 11 первый игрок может выиграть за один ход, но также имеет выигрышную стратегию, при которой он выигрывает более чем за один ход."
   ]
  },
  {
   "cell_type": "code",
   "execution_count": 2,
   "metadata": {},
   "outputs": [
    {
     "name": "stdout",
     "output_type": "stream",
     "text": [
      "Значения S, при которых первый игрок может выиграть за один ход или более чем за один ход:\n"
     ]
    }
   ],
   "source": [
    "def winning_positions(limit):\n",
    "    win = [False] * (limit + 1)\n",
    "    \n",
    "    for s in range(limit + 1):\n",
    "        if s >= 43:\n",
    "            win[s] = True  # Игрок выигрывает, если уже 43 или больше\n",
    "        \n",
    "        # Проверяем возможность выигрыша для текущей позиции\n",
    "        if s >= 2 and not win[s - 2]:\n",
    "            win[s] = True  # Игрок может добавить 2 камня и выиграть\n",
    "        if s >= 3 and s % 3 == 0 and not win[s // 3]:\n",
    "            win[s] = True  # Игрок может увеличить на треть и выиграть\n",
    "    \n",
    "    return win\n",
    "\n",
    "def find_special_positions(win):\n",
    "    results = []\n",
    "    \n",
    "    for s in range(len(win)):\n",
    "        if s < 43:\n",
    "            continue  # Игрок не может выиграть, если меньше 43\n",
    "        \n",
    "        # Проверяем, может ли первый игрок выиграть за один ход\n",
    "        if s >= 2 and s + 2 >= 43 and win[s - 2]:\n",
    "            results.append((s, \"выигрывает за один ход\"))\n",
    "        \n",
    "        # Проверяем, может ли первый игрок выиграть более чем за один ход\n",
    "        if s >= 2 and win[s - 2]:\n",
    "            results.append((s, \"выигрывает более чем за один ход\"))\n",
    "    \n",
    "    return results\n",
    "\n",
    "# Устанавливаем лимит\n",
    "limit = 43\n",
    "win = winning_positions(limit)\n",
    "special_positions = find_special_positions(win)\n",
    "\n",
    "# Вывод результатов\n",
    "print(\"Значения S, при которых первый игрок может выиграть за один ход или более чем за один ход:\")\n",
    "for s, condition in special_positions:\n",
    "    print(f\"S={s}: {condition}\")\n"
   ]
  }
 ],
 "metadata": {
  "kernelspec": {
   "display_name": "Python 3",
   "language": "python",
   "name": "python3"
  },
  "language_info": {
   "codemirror_mode": {
    "name": "ipython",
    "version": 3
   },
   "file_extension": ".py",
   "mimetype": "text/x-python",
   "name": "python",
   "nbconvert_exporter": "python",
   "pygments_lexer": "ipython3",
   "version": "3.12.6"
  }
 },
 "nbformat": 4,
 "nbformat_minor": 2
}
